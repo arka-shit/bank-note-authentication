{
 "cells": [
  {
   "cell_type": "markdown",
   "id": "a35e4038-3649-41d6-b132-da842e0168b8",
   "metadata": {},
   "source": [
    "# Bank Note Authentication using K-Means Clustering"
   ]
  },
  {
   "cell_type": "code",
   "execution_count": 1,
   "id": "543ca90a-074f-437b-ad21-ae1f511da37c",
   "metadata": {},
   "outputs": [],
   "source": [
    "import pandas as pd"
   ]
  },
  {
   "cell_type": "markdown",
   "id": "98f17f42-d4f7-44b5-9787-29c7fcd737a9",
   "metadata": {},
   "source": [
    "#### Using iframe render so that plots show up in both Jupyter Lab and nbviewer"
   ]
  },
  {
   "cell_type": "code",
   "execution_count": 2,
   "id": "2fb9a1ef-c0aa-439b-824a-383c9a518f74",
   "metadata": {},
   "outputs": [],
   "source": [
    "import plotly.io as pio\n",
    "pio.renderers.default = \"iframe\""
   ]
  },
  {
   "cell_type": "markdown",
   "id": "e1ae1a8b-7fd0-42b9-959c-c6d2911c38fa",
   "metadata": {},
   "source": [
    "#### Reading the bank note data file downloaded from opneml"
   ]
  },
  {
   "cell_type": "code",
   "execution_count": 3,
   "id": "7f0a010c-29b4-4f59-836e-dec1b72d9713",
   "metadata": {},
   "outputs": [
    {
     "data": {
      "text/html": [
       "<div>\n",
       "<style scoped>\n",
       "    .dataframe tbody tr th:only-of-type {\n",
       "        vertical-align: middle;\n",
       "    }\n",
       "\n",
       "    .dataframe tbody tr th {\n",
       "        vertical-align: top;\n",
       "    }\n",
       "\n",
       "    .dataframe thead th {\n",
       "        text-align: right;\n",
       "    }\n",
       "</style>\n",
       "<table border=\"1\" class=\"dataframe\">\n",
       "  <thead>\n",
       "    <tr style=\"text-align: right;\">\n",
       "      <th></th>\n",
       "      <th>V1</th>\n",
       "      <th>V2</th>\n",
       "      <th>V3</th>\n",
       "      <th>V4</th>\n",
       "      <th>Class</th>\n",
       "    </tr>\n",
       "  </thead>\n",
       "  <tbody>\n",
       "    <tr>\n",
       "      <th>0</th>\n",
       "      <td>3.62160</td>\n",
       "      <td>8.66610</td>\n",
       "      <td>-2.8073</td>\n",
       "      <td>-0.44699</td>\n",
       "      <td>1</td>\n",
       "    </tr>\n",
       "    <tr>\n",
       "      <th>1</th>\n",
       "      <td>4.54590</td>\n",
       "      <td>8.16740</td>\n",
       "      <td>-2.4586</td>\n",
       "      <td>-1.46210</td>\n",
       "      <td>1</td>\n",
       "    </tr>\n",
       "    <tr>\n",
       "      <th>2</th>\n",
       "      <td>3.86600</td>\n",
       "      <td>-2.63830</td>\n",
       "      <td>1.9242</td>\n",
       "      <td>0.10645</td>\n",
       "      <td>1</td>\n",
       "    </tr>\n",
       "    <tr>\n",
       "      <th>3</th>\n",
       "      <td>3.45660</td>\n",
       "      <td>9.52280</td>\n",
       "      <td>-4.0112</td>\n",
       "      <td>-3.59440</td>\n",
       "      <td>1</td>\n",
       "    </tr>\n",
       "    <tr>\n",
       "      <th>4</th>\n",
       "      <td>0.32924</td>\n",
       "      <td>-4.45520</td>\n",
       "      <td>4.5718</td>\n",
       "      <td>-0.98880</td>\n",
       "      <td>1</td>\n",
       "    </tr>\n",
       "    <tr>\n",
       "      <th>...</th>\n",
       "      <td>...</td>\n",
       "      <td>...</td>\n",
       "      <td>...</td>\n",
       "      <td>...</td>\n",
       "      <td>...</td>\n",
       "    </tr>\n",
       "    <tr>\n",
       "      <th>1367</th>\n",
       "      <td>0.40614</td>\n",
       "      <td>1.34920</td>\n",
       "      <td>-1.4501</td>\n",
       "      <td>-0.55949</td>\n",
       "      <td>2</td>\n",
       "    </tr>\n",
       "    <tr>\n",
       "      <th>1368</th>\n",
       "      <td>-1.38870</td>\n",
       "      <td>-4.87730</td>\n",
       "      <td>6.4774</td>\n",
       "      <td>0.34179</td>\n",
       "      <td>2</td>\n",
       "    </tr>\n",
       "    <tr>\n",
       "      <th>1369</th>\n",
       "      <td>-3.75030</td>\n",
       "      <td>-13.45860</td>\n",
       "      <td>17.5932</td>\n",
       "      <td>-2.77710</td>\n",
       "      <td>2</td>\n",
       "    </tr>\n",
       "    <tr>\n",
       "      <th>1370</th>\n",
       "      <td>-3.56370</td>\n",
       "      <td>-8.38270</td>\n",
       "      <td>12.3930</td>\n",
       "      <td>-1.28230</td>\n",
       "      <td>2</td>\n",
       "    </tr>\n",
       "    <tr>\n",
       "      <th>1371</th>\n",
       "      <td>-2.54190</td>\n",
       "      <td>-0.65804</td>\n",
       "      <td>2.6842</td>\n",
       "      <td>1.19520</td>\n",
       "      <td>2</td>\n",
       "    </tr>\n",
       "  </tbody>\n",
       "</table>\n",
       "<p>1372 rows × 5 columns</p>\n",
       "</div>"
      ],
      "text/plain": [
       "           V1        V2       V3       V4  Class\n",
       "0     3.62160   8.66610  -2.8073 -0.44699      1\n",
       "1     4.54590   8.16740  -2.4586 -1.46210      1\n",
       "2     3.86600  -2.63830   1.9242  0.10645      1\n",
       "3     3.45660   9.52280  -4.0112 -3.59440      1\n",
       "4     0.32924  -4.45520   4.5718 -0.98880      1\n",
       "...       ...       ...      ...      ...    ...\n",
       "1367  0.40614   1.34920  -1.4501 -0.55949      2\n",
       "1368 -1.38870  -4.87730   6.4774  0.34179      2\n",
       "1369 -3.75030 -13.45860  17.5932 -2.77710      2\n",
       "1370 -3.56370  -8.38270  12.3930 -1.28230      2\n",
       "1371 -2.54190  -0.65804   2.6842  1.19520      2\n",
       "\n",
       "[1372 rows x 5 columns]"
      ]
     },
     "metadata": {},
     "output_type": "display_data"
    }
   ],
   "source": [
    "data = pd.read_csv(\"bank_note_dataset.csv\")\n",
    "display(data)"
   ]
  },
  {
   "cell_type": "markdown",
   "id": "0dd62843-80d9-4d56-a577-85d99ac41ca7",
   "metadata": {},
   "source": [
    "#### Describing 4 features from the dataset extracted from the bank note images using a Wavelet Transform tool.\n",
    "##### V1. variance of Wavelet Transformed image (continuous)\n",
    "##### V2. skewness of Wavelet Transformed image (continuous)\n",
    "##### V3. curtosis of Wavelet Transformed image (continuous)\n",
    "##### V4. entropy of image (continuous)"
   ]
  },
  {
   "cell_type": "code",
   "execution_count": 4,
   "id": "f667895c-ac15-4e55-8787-6c8b9b608141",
   "metadata": {},
   "outputs": [
    {
     "data": {
      "text/html": [
       "<div>\n",
       "<style scoped>\n",
       "    .dataframe tbody tr th:only-of-type {\n",
       "        vertical-align: middle;\n",
       "    }\n",
       "\n",
       "    .dataframe tbody tr th {\n",
       "        vertical-align: top;\n",
       "    }\n",
       "\n",
       "    .dataframe thead th {\n",
       "        text-align: right;\n",
       "    }\n",
       "</style>\n",
       "<table border=\"1\" class=\"dataframe\">\n",
       "  <thead>\n",
       "    <tr style=\"text-align: right;\">\n",
       "      <th></th>\n",
       "      <th>V1</th>\n",
       "      <th>V2</th>\n",
       "      <th>V3</th>\n",
       "      <th>V4</th>\n",
       "    </tr>\n",
       "  </thead>\n",
       "  <tbody>\n",
       "    <tr>\n",
       "      <th>count</th>\n",
       "      <td>1372.000000</td>\n",
       "      <td>1372.000000</td>\n",
       "      <td>1372.000000</td>\n",
       "      <td>1372.000000</td>\n",
       "    </tr>\n",
       "    <tr>\n",
       "      <th>mean</th>\n",
       "      <td>0.433735</td>\n",
       "      <td>1.922353</td>\n",
       "      <td>1.397627</td>\n",
       "      <td>-1.191657</td>\n",
       "    </tr>\n",
       "    <tr>\n",
       "      <th>std</th>\n",
       "      <td>2.842763</td>\n",
       "      <td>5.869047</td>\n",
       "      <td>4.310030</td>\n",
       "      <td>2.101013</td>\n",
       "    </tr>\n",
       "    <tr>\n",
       "      <th>min</th>\n",
       "      <td>-7.042100</td>\n",
       "      <td>-13.773100</td>\n",
       "      <td>-5.286100</td>\n",
       "      <td>-8.548200</td>\n",
       "    </tr>\n",
       "    <tr>\n",
       "      <th>25%</th>\n",
       "      <td>-1.773000</td>\n",
       "      <td>-1.708200</td>\n",
       "      <td>-1.574975</td>\n",
       "      <td>-2.413450</td>\n",
       "    </tr>\n",
       "    <tr>\n",
       "      <th>50%</th>\n",
       "      <td>0.496180</td>\n",
       "      <td>2.319650</td>\n",
       "      <td>0.616630</td>\n",
       "      <td>-0.586650</td>\n",
       "    </tr>\n",
       "    <tr>\n",
       "      <th>75%</th>\n",
       "      <td>2.821475</td>\n",
       "      <td>6.814625</td>\n",
       "      <td>3.179250</td>\n",
       "      <td>0.394810</td>\n",
       "    </tr>\n",
       "    <tr>\n",
       "      <th>max</th>\n",
       "      <td>6.824800</td>\n",
       "      <td>12.951600</td>\n",
       "      <td>17.927400</td>\n",
       "      <td>2.449500</td>\n",
       "    </tr>\n",
       "  </tbody>\n",
       "</table>\n",
       "</div>"
      ],
      "text/plain": [
       "                V1           V2           V3           V4\n",
       "count  1372.000000  1372.000000  1372.000000  1372.000000\n",
       "mean      0.433735     1.922353     1.397627    -1.191657\n",
       "std       2.842763     5.869047     4.310030     2.101013\n",
       "min      -7.042100   -13.773100    -5.286100    -8.548200\n",
       "25%      -1.773000    -1.708200    -1.574975    -2.413450\n",
       "50%       0.496180     2.319650     0.616630    -0.586650\n",
       "75%       2.821475     6.814625     3.179250     0.394810\n",
       "max       6.824800    12.951600    17.927400     2.449500"
      ]
     },
     "execution_count": 4,
     "metadata": {},
     "output_type": "execute_result"
    }
   ],
   "source": [
    "data[[\"V1\",\"V2\",\"V3\",\"V4\"]].describe()"
   ]
  },
  {
   "cell_type": "markdown",
   "id": "7eda79f6-fa49-4520-8d74-8aa41a99e7d9",
   "metadata": {},
   "source": [
    "#### Printing correlation matrix to find significant features.\n",
    "##### From the below result we can clearly see the V1 and V2 columns has higher correlation, thus have higher significance on determining the Class of banknote"
   ]
  },
  {
   "cell_type": "code",
   "execution_count": 5,
   "id": "29e3c67c-c262-4297-82aa-4ea7986c6078",
   "metadata": {},
   "outputs": [
    {
     "data": {
      "text/html": [
       "<div>\n",
       "<style scoped>\n",
       "    .dataframe tbody tr th:only-of-type {\n",
       "        vertical-align: middle;\n",
       "    }\n",
       "\n",
       "    .dataframe tbody tr th {\n",
       "        vertical-align: top;\n",
       "    }\n",
       "\n",
       "    .dataframe thead th {\n",
       "        text-align: right;\n",
       "    }\n",
       "</style>\n",
       "<table border=\"1\" class=\"dataframe\">\n",
       "  <thead>\n",
       "    <tr style=\"text-align: right;\">\n",
       "      <th></th>\n",
       "      <th>V1</th>\n",
       "      <th>V2</th>\n",
       "      <th>V3</th>\n",
       "      <th>V4</th>\n",
       "      <th>Class</th>\n",
       "    </tr>\n",
       "  </thead>\n",
       "  <tbody>\n",
       "    <tr>\n",
       "      <th>V1</th>\n",
       "      <td>1.000000</td>\n",
       "      <td>0.264026</td>\n",
       "      <td>-0.380850</td>\n",
       "      <td>0.276817</td>\n",
       "      <td>-0.724843</td>\n",
       "    </tr>\n",
       "    <tr>\n",
       "      <th>V2</th>\n",
       "      <td>0.264026</td>\n",
       "      <td>1.000000</td>\n",
       "      <td>-0.786895</td>\n",
       "      <td>-0.526321</td>\n",
       "      <td>-0.444688</td>\n",
       "    </tr>\n",
       "    <tr>\n",
       "      <th>V3</th>\n",
       "      <td>-0.380850</td>\n",
       "      <td>-0.786895</td>\n",
       "      <td>1.000000</td>\n",
       "      <td>0.318841</td>\n",
       "      <td>0.155883</td>\n",
       "    </tr>\n",
       "    <tr>\n",
       "      <th>V4</th>\n",
       "      <td>0.276817</td>\n",
       "      <td>-0.526321</td>\n",
       "      <td>0.318841</td>\n",
       "      <td>1.000000</td>\n",
       "      <td>-0.023424</td>\n",
       "    </tr>\n",
       "    <tr>\n",
       "      <th>Class</th>\n",
       "      <td>-0.724843</td>\n",
       "      <td>-0.444688</td>\n",
       "      <td>0.155883</td>\n",
       "      <td>-0.023424</td>\n",
       "      <td>1.000000</td>\n",
       "    </tr>\n",
       "  </tbody>\n",
       "</table>\n",
       "</div>"
      ],
      "text/plain": [
       "             V1        V2        V3        V4     Class\n",
       "V1     1.000000  0.264026 -0.380850  0.276817 -0.724843\n",
       "V2     0.264026  1.000000 -0.786895 -0.526321 -0.444688\n",
       "V3    -0.380850 -0.786895  1.000000  0.318841  0.155883\n",
       "V4     0.276817 -0.526321  0.318841  1.000000 -0.023424\n",
       "Class -0.724843 -0.444688  0.155883 -0.023424  1.000000"
      ]
     },
     "execution_count": 5,
     "metadata": {},
     "output_type": "execute_result"
    }
   ],
   "source": [
    "data.corr()"
   ]
  },
  {
   "cell_type": "markdown",
   "id": "93e7d44e-7e4e-43f7-9269-efa995e33991",
   "metadata": {},
   "source": [
    "#### Selecting V1 and V2 columns for further analysis"
   ]
  },
  {
   "cell_type": "code",
   "execution_count": 6,
   "id": "3519faea-cb7e-4f29-9f3b-3a7b29199ba4",
   "metadata": {},
   "outputs": [],
   "source": [
    "significant_feature_data = data[[\"V1\",\"V2\"]]"
   ]
  },
  {
   "cell_type": "markdown",
   "id": "8dfe6533-6841-4e22-9309-3a4f508278d6",
   "metadata": {},
   "source": [
    "#### Plotting V2 against V1"
   ]
  },
  {
   "cell_type": "code",
   "execution_count": 7,
   "id": "49fd0c0b-71b5-4e53-b8ea-c41b22c66689",
   "metadata": {},
   "outputs": [
    {
     "data": {
      "text/html": [
       "<iframe\n",
       "    scrolling=\"no\"\n",
       "    width=\"1020px\"\n",
       "    height=\"1020\"\n",
       "    src=\"iframe_figures/figure_7.html\"\n",
       "    frameborder=\"0\"\n",
       "    allowfullscreen\n",
       "></iframe>\n"
      ]
     },
     "metadata": {},
     "output_type": "display_data"
    }
   ],
   "source": [
    "import plotly.express as px\n",
    "fig = px.scatter(significant_feature_data,x=\"V1\",y=\"V2\",width=1000,height=1000)\n",
    "fig.update_layout(title=\"Bank Note Authentication Dataset\")\n",
    "fig.show()"
   ]
  },
  {
   "cell_type": "markdown",
   "id": "ba86c525-807c-4e23-8a50-040bd96d9ba5",
   "metadata": {},
   "source": [
    "#### Normalizing the data to remove measurement scale bias"
   ]
  },
  {
   "cell_type": "code",
   "execution_count": 8,
   "id": "11086a64-b658-4f18-bf8d-736c55875382",
   "metadata": {},
   "outputs": [
    {
     "data": {
      "text/html": [
       "<div>\n",
       "<style scoped>\n",
       "    .dataframe tbody tr th:only-of-type {\n",
       "        vertical-align: middle;\n",
       "    }\n",
       "\n",
       "    .dataframe tbody tr th {\n",
       "        vertical-align: top;\n",
       "    }\n",
       "\n",
       "    .dataframe thead th {\n",
       "        text-align: right;\n",
       "    }\n",
       "</style>\n",
       "<table border=\"1\" class=\"dataframe\">\n",
       "  <thead>\n",
       "    <tr style=\"text-align: right;\">\n",
       "      <th></th>\n",
       "      <th>V1</th>\n",
       "      <th>V2</th>\n",
       "    </tr>\n",
       "  </thead>\n",
       "  <tbody>\n",
       "    <tr>\n",
       "      <th>0</th>\n",
       "      <td>1.121397</td>\n",
       "      <td>1.149036</td>\n",
       "    </tr>\n",
       "    <tr>\n",
       "      <th>1</th>\n",
       "      <td>1.446538</td>\n",
       "      <td>1.064065</td>\n",
       "    </tr>\n",
       "    <tr>\n",
       "      <th>2</th>\n",
       "      <td>1.207369</td>\n",
       "      <td>-0.777069</td>\n",
       "    </tr>\n",
       "    <tr>\n",
       "      <th>3</th>\n",
       "      <td>1.063355</td>\n",
       "      <td>1.295005</td>\n",
       "    </tr>\n",
       "    <tr>\n",
       "      <th>4</th>\n",
       "      <td>-0.036758</td>\n",
       "      <td>-1.086642</td>\n",
       "    </tr>\n",
       "    <tr>\n",
       "      <th>...</th>\n",
       "      <td>...</td>\n",
       "      <td>...</td>\n",
       "    </tr>\n",
       "    <tr>\n",
       "      <th>1367</th>\n",
       "      <td>-0.009707</td>\n",
       "      <td>-0.097657</td>\n",
       "    </tr>\n",
       "    <tr>\n",
       "      <th>1368</th>\n",
       "      <td>-0.641079</td>\n",
       "      <td>-1.158562</td>\n",
       "    </tr>\n",
       "    <tr>\n",
       "      <th>1369</th>\n",
       "      <td>-1.471820</td>\n",
       "      <td>-2.620690</td>\n",
       "    </tr>\n",
       "    <tr>\n",
       "      <th>1370</th>\n",
       "      <td>-1.406180</td>\n",
       "      <td>-1.755831</td>\n",
       "    </tr>\n",
       "    <tr>\n",
       "      <th>1371</th>\n",
       "      <td>-1.046741</td>\n",
       "      <td>-0.439661</td>\n",
       "    </tr>\n",
       "  </tbody>\n",
       "</table>\n",
       "<p>1372 rows × 2 columns</p>\n",
       "</div>"
      ],
      "text/plain": [
       "            V1        V2\n",
       "0     1.121397  1.149036\n",
       "1     1.446538  1.064065\n",
       "2     1.207369 -0.777069\n",
       "3     1.063355  1.295005\n",
       "4    -0.036758 -1.086642\n",
       "...        ...       ...\n",
       "1367 -0.009707 -0.097657\n",
       "1368 -0.641079 -1.158562\n",
       "1369 -1.471820 -2.620690\n",
       "1370 -1.406180 -1.755831\n",
       "1371 -1.046741 -0.439661\n",
       "\n",
       "[1372 rows x 2 columns]"
      ]
     },
     "metadata": {},
     "output_type": "display_data"
    }
   ],
   "source": [
    "normalized_data = (significant_feature_data - significant_feature_data.mean())/significant_feature_data.std()\n",
    "display(normalized_data)"
   ]
  },
  {
   "cell_type": "markdown",
   "id": "6f4f8987-4d2d-43fc-878a-d0a6ca288569",
   "metadata": {},
   "source": [
    "#### Post Normalization the data have 0 Mean and 1 Standard Deviation"
   ]
  },
  {
   "cell_type": "code",
   "execution_count": 9,
   "id": "d5a92624-2b8a-49dc-b520-4303e534841a",
   "metadata": {},
   "outputs": [
    {
     "data": {
      "text/plain": [
       "V1    0.000000e+00\n",
       "V2    4.143106e-17\n",
       "dtype: float64"
      ]
     },
     "execution_count": 9,
     "metadata": {},
     "output_type": "execute_result"
    }
   ],
   "source": [
    "normalized_data.mean()"
   ]
  },
  {
   "cell_type": "code",
   "execution_count": 10,
   "id": "22f3c1c9-37aa-40fc-a089-97be37f72eb9",
   "metadata": {},
   "outputs": [
    {
     "data": {
      "text/plain": [
       "V1    1.0\n",
       "V2    1.0\n",
       "dtype: float64"
      ]
     },
     "execution_count": 10,
     "metadata": {},
     "output_type": "execute_result"
    }
   ],
   "source": [
    "normalized_data.std()"
   ]
  },
  {
   "cell_type": "code",
   "execution_count": 11,
   "id": "16c0fb15-5cb8-4855-b949-9a6940ec76c0",
   "metadata": {},
   "outputs": [],
   "source": [
    "from sklearn.cluster import KMeans\n",
    "import plotly.graph_objects as go\n",
    "from plotly.subplots import make_subplots"
   ]
  },
  {
   "cell_type": "markdown",
   "id": "a48b95c6-ef0c-4ea9-a521-da3687b265bb",
   "metadata": {},
   "source": [
    "#### Performing K-Means Clustering to identify the 2 clusters of Genuine and Forged Bank Note"
   ]
  },
  {
   "cell_type": "code",
   "execution_count": 12,
   "id": "e28feed0-5225-4a16-8b00-9b60bbda2bc8",
   "metadata": {},
   "outputs": [
    {
     "data": {
      "text/html": [
       "<iframe\n",
       "    scrolling=\"no\"\n",
       "    width=\"1220px\"\n",
       "    height=\"1020\"\n",
       "    src=\"iframe_figures/figure_12.html\"\n",
       "    frameborder=\"0\"\n",
       "    allowfullscreen\n",
       "></iframe>\n"
      ]
     },
     "metadata": {},
     "output_type": "display_data"
    }
   ],
   "source": [
    "kmeans_result_final = KMeans(n_clusters=2).fit(normalized_data)\n",
    "kmeans_data_final = normalized_data.copy()\n",
    "kmeans_data_final[\"lable\"] = kmeans_result_final.labels_\n",
    "\n",
    "fig = go.Figure()\n",
    "fig.update_layout(width=1200,height=1000,xaxis_title=\"V1 (Normalized)\",yaxis_title=\"V2 (Normalized)\",title=\"KMeans Clustering on Bank Note Authentication Dataset\")\n",
    "for label in kmeans_data_final[\"lable\"].unique():\n",
    "    current_label_data = kmeans_data_final[kmeans_data_final[\"lable\"] == label]\n",
    "    fig.add_trace(go.Scatter(x=current_label_data[\"V1\"],y=current_label_data[\"V2\"],mode=\"markers\",name=f\"Cluster {label}\"))\n",
    "fig.add_trace(go.Scatter(x=kmeans_result_final.cluster_centers_[:,0],y=kmeans_result_final.cluster_centers_[:,1],mode=\"markers\",marker_symbol=\"star\",marker_size=20,marker_color=\"black\",name=\"KMeans Cluster Centroids\"))\n",
    "fig.show()"
   ]
  },
  {
   "cell_type": "markdown",
   "id": "e0df6cac-f858-43a3-b39b-834729a7a1ae",
   "metadata": {},
   "source": [
    "#### Ran the K-Means Model for 10 more times to check the stability of the model\n",
    "##### The results are very similar to each other. The cluster centers remained almost unchanged for multiple iterations. Thus we can safely say that the model is stable."
   ]
  },
  {
   "cell_type": "code",
   "execution_count": 30,
   "id": "ddd5895e-123a-4ee7-906e-cc1e7807e9e8",
   "metadata": {},
   "outputs": [
    {
     "name": "stdout",
     "output_type": "stream",
     "text": [
      "Interation 1 Cluster Centers - [[ 0.65423028  0.48502407]\n",
      " [-0.85181661 -0.63150785]]\n",
      "Interation 2 Cluster Centers - [[ 0.65956516  0.49403094]\n",
      " [-0.83865238 -0.62817179]]\n",
      "Interation 3 Cluster Centers - [[ 0.65698737  0.48740132]\n",
      " [-0.84783179 -0.62898368]]\n",
      "Interation 4 Cluster Centers - [[-0.85181661 -0.63150785]\n",
      " [ 0.65423028  0.48502407]]\n",
      "Interation 5 Cluster Centers - [[ 0.65956516  0.49403094]\n",
      " [-0.83865238 -0.62817179]]\n",
      "Interation 6 Cluster Centers - [[ 0.64563808  0.47630588]\n",
      " [-0.86599238 -0.63886762]]\n",
      "Interation 7 Cluster Centers - [[ 0.65820176  0.48778514]\n",
      " [-0.84688627 -0.62761688]]\n",
      "Interation 8 Cluster Centers - [[ 0.64563808  0.47630588]\n",
      " [-0.86599238 -0.63886762]]\n",
      "Interation 9 Cluster Centers - [[ 0.64684297  0.4766984 ]\n",
      " [-0.8650285  -0.63749275]]\n",
      "Interation 10 Cluster Centers - [[-0.83865238 -0.62817179]\n",
      " [ 0.65956516  0.49403094]]\n"
     ]
    },
    {
     "data": {
      "text/html": [
       "<iframe\n",
       "    scrolling=\"no\"\n",
       "    width=\"100%\"\n",
       "    height=\"1020\"\n",
       "    src=\"iframe_figures/figure_30.html\"\n",
       "    frameborder=\"0\"\n",
       "    allowfullscreen\n",
       "></iframe>\n"
      ]
     },
     "metadata": {},
     "output_type": "display_data"
    }
   ],
   "source": [
    "fig = make_subplots(2,5,shared_xaxes=True,shared_yaxes=True,x_title=\"V1 (Normalized)\",y_title=\"V2 (Normalized)\")\n",
    "for i in range(2):\n",
    "    for j in range(5):\n",
    "        kmeans_result = KMeans(n_clusters=2).fit(normalized_data)\n",
    "        print(f\"Interation {i*5+j+1} Cluster Centers - {kmeans_result.cluster_centers_}\")\n",
    "        fig.add_trace(go.Scatter(x=normalized_data[\"V1\"],y=normalized_data[\"V2\"],mode=\"markers\",marker_color=kmeans_result.labels_,name=f\"Interation {i*5+j+1}\"),row=i+1,col=j+1)\n",
    "        fig.add_trace(go.Scatter(x=kmeans_result.cluster_centers_[:,0],y=kmeans_result.cluster_centers_[:,1],mode=\"markers\",marker_symbol=\"star\",marker_size=20,marker_color=\"red\",showlegend=False),row=i+1,col=j+1)\n",
    "fig.update_layout(height=1000,legend_title_text=\"KMeans Iterations\",title=\"Running KMeans Clustering mutiple times for stability check\")\n",
    "fig.show()"
   ]
  },
  {
   "cell_type": "code",
   "execution_count": 31,
   "id": "b61a43a6-2ca9-48b9-bb0a-b1e807361672",
   "metadata": {},
   "outputs": [],
   "source": [
    "from sklearn.metrics import accuracy_score"
   ]
  },
  {
   "cell_type": "markdown",
   "id": "f7823d41-4649-4a1d-8332-3d6619848222",
   "metadata": {},
   "source": [
    "#### Finding the accuracy of the model\n",
    "##### Seeing the result we can confidently conclude that the model can authenticate bank notes with ≈ 88% accuracy"
   ]
  },
  {
   "cell_type": "code",
   "execution_count": 32,
   "id": "25341f38-3faf-4dcc-8693-5510246e147d",
   "metadata": {},
   "outputs": [
    {
     "name": "stdout",
     "output_type": "stream",
     "text": [
      "0.8782798833819242\n"
     ]
    }
   ],
   "source": [
    "openml_map_dict = {0:1,1:2}\n",
    "print(accuracy_score(list(map(lambda x: openml_map_dict[x],kmeans_result_final.labels_)),data[\"Class\"]))"
   ]
  },
  {
   "cell_type": "code",
   "execution_count": 33,
   "id": "bd147c9c-6902-45d3-89b1-28195b154771",
   "metadata": {},
   "outputs": [
    {
     "data": {
      "text/html": [
       "<div>\n",
       "<style scoped>\n",
       "    .dataframe tbody tr th:only-of-type {\n",
       "        vertical-align: middle;\n",
       "    }\n",
       "\n",
       "    .dataframe tbody tr th {\n",
       "        vertical-align: top;\n",
       "    }\n",
       "\n",
       "    .dataframe thead th {\n",
       "        text-align: right;\n",
       "    }\n",
       "</style>\n",
       "<table border=\"1\" class=\"dataframe\">\n",
       "  <thead>\n",
       "    <tr style=\"text-align: right;\">\n",
       "      <th></th>\n",
       "      <th>V1</th>\n",
       "      <th>V2</th>\n",
       "      <th>accurate</th>\n",
       "    </tr>\n",
       "  </thead>\n",
       "  <tbody>\n",
       "    <tr>\n",
       "      <th>0</th>\n",
       "      <td>3.62160</td>\n",
       "      <td>8.66610</td>\n",
       "      <td>True</td>\n",
       "    </tr>\n",
       "    <tr>\n",
       "      <th>1</th>\n",
       "      <td>4.54590</td>\n",
       "      <td>8.16740</td>\n",
       "      <td>True</td>\n",
       "    </tr>\n",
       "    <tr>\n",
       "      <th>2</th>\n",
       "      <td>3.86600</td>\n",
       "      <td>-2.63830</td>\n",
       "      <td>True</td>\n",
       "    </tr>\n",
       "    <tr>\n",
       "      <th>3</th>\n",
       "      <td>3.45660</td>\n",
       "      <td>9.52280</td>\n",
       "      <td>True</td>\n",
       "    </tr>\n",
       "    <tr>\n",
       "      <th>4</th>\n",
       "      <td>0.32924</td>\n",
       "      <td>-4.45520</td>\n",
       "      <td>False</td>\n",
       "    </tr>\n",
       "    <tr>\n",
       "      <th>...</th>\n",
       "      <td>...</td>\n",
       "      <td>...</td>\n",
       "      <td>...</td>\n",
       "    </tr>\n",
       "    <tr>\n",
       "      <th>1367</th>\n",
       "      <td>0.40614</td>\n",
       "      <td>1.34920</td>\n",
       "      <td>False</td>\n",
       "    </tr>\n",
       "    <tr>\n",
       "      <th>1368</th>\n",
       "      <td>-1.38870</td>\n",
       "      <td>-4.87730</td>\n",
       "      <td>True</td>\n",
       "    </tr>\n",
       "    <tr>\n",
       "      <th>1369</th>\n",
       "      <td>-3.75030</td>\n",
       "      <td>-13.45860</td>\n",
       "      <td>True</td>\n",
       "    </tr>\n",
       "    <tr>\n",
       "      <th>1370</th>\n",
       "      <td>-3.56370</td>\n",
       "      <td>-8.38270</td>\n",
       "      <td>True</td>\n",
       "    </tr>\n",
       "    <tr>\n",
       "      <th>1371</th>\n",
       "      <td>-2.54190</td>\n",
       "      <td>-0.65804</td>\n",
       "      <td>True</td>\n",
       "    </tr>\n",
       "  </tbody>\n",
       "</table>\n",
       "<p>1372 rows × 3 columns</p>\n",
       "</div>"
      ],
      "text/plain": [
       "           V1        V2  accurate\n",
       "0     3.62160   8.66610      True\n",
       "1     4.54590   8.16740      True\n",
       "2     3.86600  -2.63830      True\n",
       "3     3.45660   9.52280      True\n",
       "4     0.32924  -4.45520     False\n",
       "...       ...       ...       ...\n",
       "1367  0.40614   1.34920     False\n",
       "1368 -1.38870  -4.87730      True\n",
       "1369 -3.75030 -13.45860      True\n",
       "1370 -3.56370  -8.38270      True\n",
       "1371 -2.54190  -0.65804      True\n",
       "\n",
       "[1372 rows x 3 columns]"
      ]
     },
     "metadata": {},
     "output_type": "display_data"
    }
   ],
   "source": [
    "data_with_accuracy = significant_feature_data.copy()\n",
    "data_with_accuracy[\"accurate\"] = [True if openml_map_dict[kmeans_data_final.at[i,\"lable\"]] == data.at[i,\"Class\"] else False for i in range(kmeans_data_final.shape[0])]\n",
    "display(data_with_accuracy)"
   ]
  },
  {
   "cell_type": "markdown",
   "id": "26389cf8-087c-4388-91b8-b1bc5742bea5",
   "metadata": {},
   "source": [
    "#### Plotting the data set with accuracy lables for data point on whether the K-Means model was able to correctly cluster that data point or not\n",
    "##### The plot gives us a pretty good idea of the confidence level of the model. We can clearly see that except a few point on the borderline, most data points are correctly clustered"
   ]
  },
  {
   "cell_type": "code",
   "execution_count": 34,
   "id": "c51963ba-5ab7-4ed7-8d80-c33398a4d51e",
   "metadata": {},
   "outputs": [
    {
     "data": {
      "text/html": [
       "<iframe\n",
       "    scrolling=\"no\"\n",
       "    width=\"1020px\"\n",
       "    height=\"1020\"\n",
       "    src=\"iframe_figures/figure_34.html\"\n",
       "    frameborder=\"0\"\n",
       "    allowfullscreen\n",
       "></iframe>\n"
      ]
     },
     "metadata": {},
     "output_type": "display_data"
    }
   ],
   "source": [
    "fig = px.scatter(data_with_accuracy,x=\"V1\",y=\"V2\",color=\"accurate\",width=1000,height=1000)\n",
    "fig.update_layout(legend_title_text=\"Correctly Clustered\",title=\"Clustering Accuracy Graph\")\n",
    "fig.show()"
   ]
  },
  {
   "cell_type": "markdown",
   "id": "7b2ebccb-1fc8-4a14-ab58-d385f4dbcebe",
   "metadata": {},
   "source": [
    "#### Final Recommendation-\r\n",
    "The outcome of the project is very positive. I achieved an accuracy score of ≈ 88% which will help in identifying the forged notes more easily. Also, the model is very stable and thus an ideal candidate for a finance-related sensitive environment. The K-means model was able to clearly identify all forged ntsse having less variance. It struggled only a bit for forged bank notes having moderate variance. Thus my recommendation will be to use this model as a first level filter for identifying forged bank notes. Though manual checking will still be required for some bank notes with moderate variance. But still, it can automate almost 90% of the process."
   ]
  }
 ],
 "metadata": {
  "kernelspec": {
   "display_name": "Python 3 (ipykernel)",
   "language": "python",
   "name": "python3"
  },
  "language_info": {
   "codemirror_mode": {
    "name": "ipython",
    "version": 3
   },
   "file_extension": ".py",
   "mimetype": "text/x-python",
   "name": "python",
   "nbconvert_exporter": "python",
   "pygments_lexer": "ipython3",
   "version": "3.11.9"
  }
 },
 "nbformat": 4,
 "nbformat_minor": 5
}
